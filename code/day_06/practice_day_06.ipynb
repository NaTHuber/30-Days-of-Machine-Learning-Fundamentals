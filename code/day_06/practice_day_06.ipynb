{
 "cells": [
  {
   "cell_type": "markdown",
   "id": "837cc599",
   "metadata": {},
   "source": [
    "# Tasks \n",
    "\n",
    "1. Load the Titanic dataset (sns.load_dataset(\"titanic\")).\n",
    "2. Identify columns with missing values.\n",
    "3. For numerical columns: fill missing values with the median.\n",
    "4. For categorical columns: fill missing values with the mode.\n",
    "5. Compare the dataset before and after cleaning."
   ]
  },
  {
   "cell_type": "code",
   "execution_count": 1,
   "id": "40adf4cc",
   "metadata": {},
   "outputs": [],
   "source": [
    "# Task 1. Load the Titanic dataset (sns.load_dataset(\"titanic\"))\n",
    "\n",
    "import seaborn as sns\n",
    "\n",
    "titanic_original = sns.load_dataset(\"titanic\")\n",
    "titanic = sns.load_dataset(\"titanic\")"
   ]
  },
  {
   "cell_type": "code",
   "execution_count": 2,
   "id": "21692e12",
   "metadata": {},
   "outputs": [
    {
     "name": "stdout",
     "output_type": "stream",
     "text": [
      "Columns with missing values: ['age', 'embarked', 'deck', 'embark_town']\n"
     ]
    }
   ],
   "source": [
    "# Task 2. Identify columns with missing values\n",
    "\n",
    "missing_columns = titanic.columns[titanic.isnull().any()].tolist()\n",
    "print(\"Columns with missing values:\", missing_columns)"
   ]
  },
  {
   "cell_type": "code",
   "execution_count": 3,
   "id": "1e2a70d2",
   "metadata": {},
   "outputs": [
    {
     "name": "stdout",
     "output_type": "stream",
     "text": [
      "Numerical columns after filling missing values with median:\n",
      "   survived  pclass   age  sibsp  parch     fare\n",
      "0         0       3  22.0      1      0   7.2500\n",
      "1         1       1  38.0      1      0  71.2833\n",
      "2         1       3  26.0      0      0   7.9250\n",
      "3         1       1  35.0      1      0  53.1000\n",
      "4         0       3  35.0      0      0   8.0500\n"
     ]
    }
   ],
   "source": [
    "# Task 3. For numerical columns: fill missing values with the median.\n",
    "\n",
    "numerical_columns = titanic.select_dtypes(include=['float64', 'int64']).columns\n",
    "\n",
    "for column in numerical_columns:\n",
    "    median_value = titanic[column].median()\n",
    "    titanic[column] = titanic[column].fillna(median_value)\n",
    "\n",
    "print(\"Numerical columns after filling missing values with median:\")\n",
    "print(titanic[numerical_columns].head())"
   ]
  },
  {
   "cell_type": "code",
   "execution_count": 4,
   "id": "a2fd4da3",
   "metadata": {},
   "outputs": [
    {
     "name": "stdout",
     "output_type": "stream",
     "text": [
      "Categorical columns after filling missing values with mode:\n",
      "      sex embarked    who  embark_town alive\n",
      "0    male        S    man  Southampton    no\n",
      "1  female        C  woman    Cherbourg   yes\n",
      "2  female        S  woman  Southampton   yes\n",
      "3  female        S  woman  Southampton   yes\n",
      "4    male        S    man  Southampton    no\n"
     ]
    }
   ],
   "source": [
    "# Task 4. For categorical columns: fill missing values with the mode.\n",
    "categorical_columns = titanic.select_dtypes(include=['object']).columns\n",
    "for column in categorical_columns:\n",
    "    mode_value = titanic[column].mode()[0]\n",
    "    titanic[column] = titanic[column].fillna(mode_value)\n",
    "print(\"Categorical columns after filling missing values with mode:\")\n",
    "print(titanic[categorical_columns].head())"
   ]
  },
  {
   "cell_type": "code",
   "execution_count": 6,
   "id": "f2d6fe97",
   "metadata": {},
   "outputs": [
    {
     "name": "stdout",
     "output_type": "stream",
     "text": [
      "Missing values BEFORE cleaning:\n",
      " survived         0\n",
      "pclass           0\n",
      "sex              0\n",
      "age            177\n",
      "sibsp            0\n",
      "parch            0\n",
      "fare             0\n",
      "embarked         2\n",
      "class            0\n",
      "who              0\n",
      "adult_male       0\n",
      "deck           688\n",
      "embark_town      2\n",
      "alive            0\n",
      "alone            0\n",
      "dtype: int64\n"
     ]
    }
   ],
   "source": [
    "# Task 5. Compare the dataset before and after cleaning.\n",
    "\n",
    "print(\"Missing values BEFORE cleaning:\\n\", titanic_original.isnull().sum())"
   ]
  },
  {
   "cell_type": "code",
   "execution_count": 7,
   "id": "66a9a911",
   "metadata": {},
   "outputs": [
    {
     "name": "stdout",
     "output_type": "stream",
     "text": [
      "\n",
      "Missing values AFTER cleaning:\n",
      " survived         0\n",
      "pclass           0\n",
      "sex              0\n",
      "age              0\n",
      "sibsp            0\n",
      "parch            0\n",
      "fare             0\n",
      "embarked         0\n",
      "class            0\n",
      "who              0\n",
      "adult_male       0\n",
      "deck           688\n",
      "embark_town      0\n",
      "alive            0\n",
      "alone            0\n",
      "dtype: int64\n"
     ]
    }
   ],
   "source": [
    "print(\"\\nMissing values AFTER cleaning:\\n\", titanic.isnull().sum())"
   ]
  },
  {
   "cell_type": "code",
   "execution_count": 8,
   "id": "45d245fe",
   "metadata": {},
   "outputs": [
    {
     "name": "stdout",
     "output_type": "stream",
     "text": [
      "\n",
      "Number of changed values per column:\n",
      " survived         0\n",
      "pclass           0\n",
      "sex              0\n",
      "age            177\n",
      "sibsp            0\n",
      "parch            0\n",
      "fare             0\n",
      "embarked         2\n",
      "class            0\n",
      "who              0\n",
      "adult_male       0\n",
      "deck           688\n",
      "embark_town      2\n",
      "alive            0\n",
      "alone            0\n",
      "dtype: int64\n"
     ]
    }
   ],
   "source": [
    "differences = (titanic_original != titanic).sum()\n",
    "print(\"\\nNumber of changed values per column:\\n\", differences)"
   ]
  },
  {
   "cell_type": "code",
   "execution_count": null,
   "id": "6f40b2d1",
   "metadata": {},
   "outputs": [],
   "source": []
  }
 ],
 "metadata": {
  "kernelspec": {
   "display_name": "Python 3",
   "language": "python",
   "name": "python3"
  },
  "language_info": {
   "codemirror_mode": {
    "name": "ipython",
    "version": 3
   },
   "file_extension": ".py",
   "mimetype": "text/x-python",
   "name": "python",
   "nbconvert_exporter": "python",
   "pygments_lexer": "ipython3",
   "version": "3.12.7"
  }
 },
 "nbformat": 4,
 "nbformat_minor": 5
}
