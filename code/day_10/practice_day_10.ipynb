{
 "cells": [
  {
   "cell_type": "markdown",
   "id": "dfbc23a5",
   "metadata": {},
   "source": [
    "# Tasks\n",
    "\n",
    "1. Train a linear regression model on a dataset (e.g., California Housing) and compute MAE, MSE, RMSE, and R².\n",
    "\n",
    "2. Compare results of different models (e.g., LinearRegression vs. DecisionTreeRegressor) using the same metrics.\n",
    "\n",
    "3. Normalize your dataset and check if metrics improve."
   ]
  },
  {
   "cell_type": "code",
   "execution_count": null,
   "id": "654edaa0",
   "metadata": {},
   "outputs": [],
   "source": [
    "# Task 1. Train a linear regression model on the Boston housing dataset.\n",
    "import numpy as np\n",
    "from sklearn.datasets import fetch_california_housing\n",
    "from sklearn.model_selection import train_test_split\n",
    "from sklearn.preprocessing import StandardScaler\n",
    "from sklearn.linear_model import LinearRegression\n",
    "from sklearn.tree import DecisionTreeRegressor  \n",
    "from sklearn.metrics import mean_absolute_error, mean_squared_error, r2_score"
   ]
  },
  {
   "cell_type": "code",
   "execution_count": 15,
   "id": "49a026e2",
   "metadata": {},
   "outputs": [
    {
     "name": "stdout",
     "output_type": "stream",
     "text": [
      "MAE: 0.53\n",
      "MSE: 0.56\n",
      "RMSE: 0.75\n",
      "R²: 0.58\n"
     ]
    }
   ],
   "source": [
    "data = fetch_california_housing()\n",
    "\n",
    "X = data.data\n",
    "y = data.target\n",
    "\n",
    "X_train, X_test, y_train, y_test = train_test_split(X, y, test_size=0.2, random_state=42)\n",
    "\n",
    "scaler = StandardScaler()\n",
    "X_train = scaler.fit_transform(X_train)\n",
    "X_test = scaler.transform(X_test)\n",
    "\n",
    "model = LinearRegression()\n",
    "model.fit(X_train, y_train)\n",
    "y_pred = model.predict(X_test)\n",
    "\n",
    "mae = mean_absolute_error(y_test, y_pred)\n",
    "mse = mean_squared_error(y_test, y_pred)\n",
    "rmse = np.sqrt(mse)\n",
    "r2 = r2_score(y_test, y_pred)\n",
    "print(f\"MAE: {mae:.2f}\")\n",
    "print(f\"MSE: {mse:.2f}\")\n",
    "print(f\"RMSE: {rmse:.2f}\")\n",
    "print(f\"R²: {r2:.2f}\") \n"
   ]
  },
  {
   "cell_type": "code",
   "execution_count": 16,
   "id": "ad71809d",
   "metadata": {},
   "outputs": [
    {
     "name": "stdout",
     "output_type": "stream",
     "text": [
      "MAE: 0.45\n",
      "MSE: 0.49\n",
      "RMSE: 0.70\n",
      "R²: 0.62\n"
     ]
    }
   ],
   "source": [
    "# Task 2. Compare results of different models (e.g., LinearRegression vs. DecisionTreeRegressor) using the same metrics.\n",
    "\n",
    "data = fetch_california_housing()\n",
    "\n",
    "X = data.data\n",
    "y = data.target\n",
    "\n",
    "X_train, X_test, y_train, y_test = train_test_split(X, y, test_size=0.2, random_state=42)\n",
    "\n",
    "scaler = StandardScaler()\n",
    "X_train = scaler.fit_transform(X_train)\n",
    "X_test = scaler.transform(X_test)\n",
    "\n",
    "model = DecisionTreeRegressor(random_state=42)\n",
    "model.fit(X_train, y_train)\n",
    "y_pred = model.predict(X_test)\n",
    "\n",
    "mae = mean_absolute_error(y_test, y_pred)\n",
    "mse = mean_squared_error(y_test, y_pred)\n",
    "rmse = np.sqrt(mse)\n",
    "r2 = r2_score(y_test, y_pred)\n",
    "\n",
    "print(f\"MAE: {mae:.2f}\")\n",
    "print(f\"MSE: {mse:.2f}\")\n",
    "print(f\"RMSE: {rmse:.2f}\")\n",
    "print(f\"R²: {r2:.2f}\")"
   ]
  },
  {
   "cell_type": "markdown",
   "id": "b2f0b041",
   "metadata": {},
   "source": [
    "**Error metrics (MAE, MSE, RMSE):**\n",
    "- The Decision Tree has lower errors across all metrics compared to Linear Regression.\n",
    "\n",
    "**R² score:**\n",
    "- Linear Regression: 0.58 → explains ~58% of the variance.\n",
    "\n",
    "- Decision Tree: 0.62 → explains ~62% of the variance.\n",
    "\n",
    "Slight improvement, but not a huge jump.\n",
    "\n",
    "**Model nature:**\n",
    "- Linear Regression assumes a straight-line relationship between features and target. It struggles if the relationship is more complex.\n",
    "- Decision Tree can capture non-linear patterns and interactions, which explains its better performance here."
   ]
  }
 ],
 "metadata": {
  "kernelspec": {
   "display_name": "Python 3",
   "language": "python",
   "name": "python3"
  },
  "language_info": {
   "codemirror_mode": {
    "name": "ipython",
    "version": 3
   },
   "file_extension": ".py",
   "mimetype": "text/x-python",
   "name": "python",
   "nbconvert_exporter": "python",
   "pygments_lexer": "ipython3",
   "version": "3.12.7"
  }
 },
 "nbformat": 4,
 "nbformat_minor": 5
}
