{
 "cells": [
  {
   "cell_type": "markdown",
   "id": "7a82ae35",
   "metadata": {},
   "source": [
    "# Example"
   ]
  },
  {
   "cell_type": "code",
   "execution_count": 1,
   "id": "d67110f0",
   "metadata": {},
   "outputs": [
    {
     "name": "stdout",
     "output_type": "stream",
     "text": [
      "Original DataFrame:\n",
      "   Gender    Education  Age  Income\n",
      "0    Male  High School   18   20000\n",
      "1  Female     Bachelor   25   35000\n",
      "2  Female       Master   32   50000\n",
      "3    Male          PhD   40   80000\n"
     ]
    }
   ],
   "source": [
    "import pandas as pd\n",
    "from sklearn.preprocessing import LabelEncoder, OneHotEncoder, StandardScaler, MinMaxScaler\n",
    "\n",
    "# Example dataset\n",
    "df = pd.DataFrame({\n",
    "    'Gender': ['Male', 'Female', 'Female', 'Male'],\n",
    "    'Education': ['High School', 'Bachelor', 'Master', 'PhD'],\n",
    "    'Age': [18, 25, 32, 40],\n",
    "    'Income': [20000, 35000, 50000, 80000]\n",
    "})\n",
    "\n",
    "print(\"Original DataFrame:\")\n",
    "print(df)"
   ]
  },
  {
   "cell_type": "code",
   "execution_count": 2,
   "id": "0ca37d59",
   "metadata": {},
   "outputs": [
    {
     "name": "stdout",
     "output_type": "stream",
     "text": [
      "\n",
      "DataFrame after Label Encoding (Education):\n",
      "   Gender    Education  Age  Income  Education_encoded\n",
      "0    Male  High School   18   20000                  1\n",
      "1  Female     Bachelor   25   35000                  2\n",
      "2  Female       Master   32   50000                  3\n",
      "3    Male          PhD   40   80000                  4\n"
     ]
    }
   ],
   "source": [
    "# --- Encoding ---\n",
    "# Label Encoding (Education with order)\n",
    "edu_order = {'High School':1, 'Bachelor':2, 'Master':3, 'PhD':4}\n",
    "df['Education_encoded'] = df['Education'].map(edu_order)\n",
    "print(\"\\nDataFrame after Label Encoding (Education):\")\n",
    "print(df)"
   ]
  },
  {
   "cell_type": "code",
   "execution_count": 3,
   "id": "aba97608",
   "metadata": {},
   "outputs": [
    {
     "name": "stdout",
     "output_type": "stream",
     "text": [
      "\n",
      "DataFrame after One-Hot Encoding\n",
      "     Education  Age  Income  Education_encoded  Gender_Female  Gender_Male\n",
      "0  High School   18   20000                  1          False         True\n",
      "1     Bachelor   25   35000                  2           True        False\n",
      "2       Master   32   50000                  3           True        False\n",
      "3          PhD   40   80000                  4          False         True\n"
     ]
    }
   ],
   "source": [
    "# One-Hot Encoding (Gender)\n",
    "df = pd.get_dummies(df, columns=['Gender'])\n",
    "print(\"\\nDataFrame after One-Hot Encoding\")\n",
    "print(df)"
   ]
  },
  {
   "cell_type": "code",
   "execution_count": 4,
   "id": "f95d38db",
   "metadata": {},
   "outputs": [
    {
     "name": "stdout",
     "output_type": "stream",
     "text": [
      "\n",
      "DataFrame after Normalization (Age):\n",
      "     Education  Age  Income  Education_encoded  Gender_Female  Gender_Male  \\\n",
      "0  High School   18   20000                  1          False         True   \n",
      "1     Bachelor   25   35000                  2           True        False   \n",
      "2       Master   32   50000                  3           True        False   \n",
      "3          PhD   40   80000                  4          False         True   \n",
      "\n",
      "   Age_norm  \n",
      "0  0.000000  \n",
      "1  0.318182  \n",
      "2  0.636364  \n",
      "3  1.000000  \n"
     ]
    }
   ],
   "source": [
    "# --- Normalization ---\n",
    "scaler = MinMaxScaler()\n",
    "df['Age_norm'] = scaler.fit_transform(df[['Age']])\n",
    "print(\"\\nDataFrame after Normalization (Age):\")\n",
    "print(df)"
   ]
  },
  {
   "cell_type": "code",
   "execution_count": 5,
   "id": "2533d21f",
   "metadata": {},
   "outputs": [
    {
     "name": "stdout",
     "output_type": "stream",
     "text": [
      "\n",
      "DataFrame after Standardization (Income):\n",
      "     Education  Age  Income  Education_encoded  Gender_Female  Gender_Male  \\\n",
      "0  High School   18   20000                  1          False         True   \n",
      "1     Bachelor   25   35000                  2           True        False   \n",
      "2       Master   32   50000                  3           True        False   \n",
      "3          PhD   40   80000                  4          False         True   \n",
      "\n",
      "   Age_norm  Income_std  \n",
      "0  0.000000   -1.183216  \n",
      "1  0.318182   -0.507093  \n",
      "2  0.636364    0.169031  \n",
      "3  1.000000    1.521278  \n"
     ]
    }
   ],
   "source": [
    "# --- Standardization ---\n",
    "scaler_std = StandardScaler()\n",
    "df['Income_std'] = scaler_std.fit_transform(df[['Income']])\n",
    "print(\"\\nDataFrame after Standardization (Income):\")\n",
    "print(df)"
   ]
  },
  {
   "cell_type": "code",
   "execution_count": 6,
   "id": "6c7c911f",
   "metadata": {},
   "outputs": [
    {
     "name": "stdout",
     "output_type": "stream",
     "text": [
      "\n",
      "Transformed DataFrame:\n",
      "     Education  Age  Income  Education_encoded  Gender_Female  Gender_Male  \\\n",
      "0  High School   18   20000                  1          False         True   \n",
      "1     Bachelor   25   35000                  2           True        False   \n",
      "2       Master   32   50000                  3           True        False   \n",
      "3          PhD   40   80000                  4          False         True   \n",
      "\n",
      "   Age_norm  Income_std  \n",
      "0  0.000000   -1.183216  \n",
      "1  0.318182   -0.507093  \n",
      "2  0.636364    0.169031  \n",
      "3  1.000000    1.521278  \n"
     ]
    }
   ],
   "source": [
    "print(\"\\nTransformed DataFrame:\")\n",
    "print(df)"
   ]
  },
  {
   "cell_type": "markdown",
   "id": "dcce94bc",
   "metadata": {},
   "source": [
    "# Tasks \n",
    "Load the Titanic dataset (or another dataset with categorical + numerical features).\n",
    "- Apply label encoding to Sex.\n",
    "- Apply one-hot encoding to Embarked.\n",
    "- Normalize the Age column.\n",
    "- Standardize the Fare column.\n",
    "- Compare the effect of normalization vs. standardization on a small dataset with highly varying scales. Visualize distributions before and after."
   ]
  },
  {
   "cell_type": "markdown",
   "id": "b24a000f",
   "metadata": {},
   "source": []
  }
 ],
 "metadata": {
  "kernelspec": {
   "display_name": "Python 3",
   "language": "python",
   "name": "python3"
  },
  "language_info": {
   "codemirror_mode": {
    "name": "ipython",
    "version": 3
   },
   "file_extension": ".py",
   "mimetype": "text/x-python",
   "name": "python",
   "nbconvert_exporter": "python",
   "pygments_lexer": "ipython3",
   "version": "3.12.7"
  }
 },
 "nbformat": 4,
 "nbformat_minor": 5
}
